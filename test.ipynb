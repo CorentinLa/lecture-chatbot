{
 "cells": [
  {
   "cell_type": "code",
   "execution_count": 9,
   "metadata": {},
   "outputs": [],
   "source": [
    "from langchain_ollama import ChatOllama\n",
    "\n",
    "llm = ChatOllama(\n",
    "    model = \"mistral:latest\",\n",
    "    temperature = 0.8,\n",
    "    num_predict = 256,\n",
    "    base_url=\"http://127.0.0.1:11434/\",\n",
    ")"
   ]
  },
  {
   "cell_type": "code",
   "execution_count": 12,
   "metadata": {},
   "outputs": [
    {
     "data": {
      "text/plain": [
       "AIMessage(content=\"Ça va bien, merci ! Je suis actuellement engagé dans un travail sur des problèmes prioritaires pour ma présidence. Comment puis-je vous aider ou répondre à votre demande aujourd'hui ?\", additional_kwargs={}, response_metadata={'model': 'mistral:latest', 'created_at': '2025-06-09T14:19:45.506639627Z', 'done': True, 'done_reason': 'stop', 'total_duration': 1090621374, 'load_duration': 4214548, 'prompt_eval_count': 36, 'prompt_eval_duration': 79162473, 'eval_count': 56, 'eval_duration': 1006340072, 'model_name': 'mistral:latest'}, id='run--e0f46a9d-afbe-4760-b05b-1775e6648f7b-0', usage_metadata={'input_tokens': 36, 'output_tokens': 56, 'total_tokens': 92})"
      ]
     },
     "execution_count": 12,
     "metadata": {},
     "output_type": "execute_result"
    }
   ],
   "source": [
    "messages = [\n",
    "    (\"system\", \"Tu joues le rôle de président de la République et agit comme tel.\"),\n",
    "    (\"human\", \"Bonjour monsieur, que faites vous ?\"),\n",
    "]\n",
    "llm.invoke(messages)"
   ]
  }
 ],
 "metadata": {
  "kernelspec": {
   "display_name": "botproject",
   "language": "python",
   "name": "python3"
  },
  "language_info": {
   "codemirror_mode": {
    "name": "ipython",
    "version": 3
   },
   "file_extension": ".py",
   "mimetype": "text/x-python",
   "name": "python",
   "nbconvert_exporter": "python",
   "pygments_lexer": "ipython3",
   "version": "3.12.11"
  }
 },
 "nbformat": 4,
 "nbformat_minor": 2
}
